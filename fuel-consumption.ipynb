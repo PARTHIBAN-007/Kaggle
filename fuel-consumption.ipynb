{
 "cells": [
  {
   "cell_type": "markdown",
   "id": "fc2d1895",
   "metadata": {
    "papermill": {
     "duration": 0.002862,
     "end_time": "2024-12-31T14:20:19.313250",
     "exception": false,
     "start_time": "2024-12-31T14:20:19.310388",
     "status": "completed"
    },
    "tags": []
   },
   "source": [
    "<div style=\"background-color:#ffecd2; color:#0f0c29; text-align:center; padding:15px; font-size:15px; border-radius:25px;\">Fuel Consumption</div>"
   ]
  },
  {
   "cell_type": "code",
   "execution_count": 1,
   "id": "1593d9aa",
   "metadata": {
    "execution": {
     "iopub.execute_input": "2024-12-31T14:20:19.319385Z",
     "iopub.status.busy": "2024-12-31T14:20:19.319004Z",
     "iopub.status.idle": "2024-12-31T14:20:21.673314Z",
     "shell.execute_reply": "2024-12-31T14:20:21.672278Z"
    },
    "papermill": {
     "duration": 2.359294,
     "end_time": "2024-12-31T14:20:21.675125",
     "exception": false,
     "start_time": "2024-12-31T14:20:19.315831",
     "status": "completed"
    },
    "tags": []
   },
   "outputs": [
    {
     "data": {
      "text/html": [
       "<div>\n",
       "<style scoped>\n",
       "    .dataframe tbody tr th:only-of-type {\n",
       "        vertical-align: middle;\n",
       "    }\n",
       "\n",
       "    .dataframe tbody tr th {\n",
       "        vertical-align: top;\n",
       "    }\n",
       "\n",
       "    .dataframe thead th {\n",
       "        text-align: right;\n",
       "    }\n",
       "</style>\n",
       "<table border=\"1\" class=\"dataframe\">\n",
       "  <thead>\n",
       "    <tr style=\"text-align: right;\">\n",
       "      <th></th>\n",
       "      <th>ship_id</th>\n",
       "      <th>ship_type</th>\n",
       "      <th>route_id</th>\n",
       "      <th>month</th>\n",
       "      <th>distance</th>\n",
       "      <th>fuel_type</th>\n",
       "      <th>fuel_consumption</th>\n",
       "      <th>CO2_emissions</th>\n",
       "      <th>weather_conditions</th>\n",
       "      <th>engine_efficiency</th>\n",
       "    </tr>\n",
       "  </thead>\n",
       "  <tbody>\n",
       "    <tr>\n",
       "      <th>0</th>\n",
       "      <td>NG001</td>\n",
       "      <td>Oil Service Boat</td>\n",
       "      <td>Warri-Bonny</td>\n",
       "      <td>January</td>\n",
       "      <td>132.26</td>\n",
       "      <td>HFO</td>\n",
       "      <td>3779.77</td>\n",
       "      <td>10625.76</td>\n",
       "      <td>Stormy</td>\n",
       "      <td>92.14</td>\n",
       "    </tr>\n",
       "    <tr>\n",
       "      <th>1</th>\n",
       "      <td>NG001</td>\n",
       "      <td>Oil Service Boat</td>\n",
       "      <td>Port Harcourt-Lagos</td>\n",
       "      <td>February</td>\n",
       "      <td>128.52</td>\n",
       "      <td>HFO</td>\n",
       "      <td>4461.44</td>\n",
       "      <td>12779.73</td>\n",
       "      <td>Moderate</td>\n",
       "      <td>92.98</td>\n",
       "    </tr>\n",
       "    <tr>\n",
       "      <th>2</th>\n",
       "      <td>NG001</td>\n",
       "      <td>Oil Service Boat</td>\n",
       "      <td>Port Harcourt-Lagos</td>\n",
       "      <td>March</td>\n",
       "      <td>67.30</td>\n",
       "      <td>HFO</td>\n",
       "      <td>1867.73</td>\n",
       "      <td>5353.01</td>\n",
       "      <td>Calm</td>\n",
       "      <td>87.61</td>\n",
       "    </tr>\n",
       "    <tr>\n",
       "      <th>3</th>\n",
       "      <td>NG001</td>\n",
       "      <td>Oil Service Boat</td>\n",
       "      <td>Port Harcourt-Lagos</td>\n",
       "      <td>April</td>\n",
       "      <td>71.68</td>\n",
       "      <td>Diesel</td>\n",
       "      <td>2393.51</td>\n",
       "      <td>6506.52</td>\n",
       "      <td>Stormy</td>\n",
       "      <td>87.42</td>\n",
       "    </tr>\n",
       "    <tr>\n",
       "      <th>4</th>\n",
       "      <td>NG001</td>\n",
       "      <td>Oil Service Boat</td>\n",
       "      <td>Lagos-Apapa</td>\n",
       "      <td>May</td>\n",
       "      <td>134.32</td>\n",
       "      <td>HFO</td>\n",
       "      <td>4267.19</td>\n",
       "      <td>11617.03</td>\n",
       "      <td>Calm</td>\n",
       "      <td>85.61</td>\n",
       "    </tr>\n",
       "  </tbody>\n",
       "</table>\n",
       "</div>"
      ],
      "text/plain": [
       "  ship_id         ship_type             route_id     month  distance  \\\n",
       "0   NG001  Oil Service Boat          Warri-Bonny   January    132.26   \n",
       "1   NG001  Oil Service Boat  Port Harcourt-Lagos  February    128.52   \n",
       "2   NG001  Oil Service Boat  Port Harcourt-Lagos     March     67.30   \n",
       "3   NG001  Oil Service Boat  Port Harcourt-Lagos     April     71.68   \n",
       "4   NG001  Oil Service Boat          Lagos-Apapa       May    134.32   \n",
       "\n",
       "  fuel_type  fuel_consumption  CO2_emissions weather_conditions  \\\n",
       "0       HFO           3779.77       10625.76             Stormy   \n",
       "1       HFO           4461.44       12779.73           Moderate   \n",
       "2       HFO           1867.73        5353.01               Calm   \n",
       "3    Diesel           2393.51        6506.52             Stormy   \n",
       "4       HFO           4267.19       11617.03               Calm   \n",
       "\n",
       "   engine_efficiency  \n",
       "0              92.14  \n",
       "1              92.98  \n",
       "2              87.61  \n",
       "3              87.42  \n",
       "4              85.61  "
      ]
     },
     "execution_count": 1,
     "metadata": {},
     "output_type": "execute_result"
    }
   ],
   "source": [
    "import numpy as np\n",
    "import pandas as pd\n",
    "import matplotlib.pyplot as plt\n",
    "import seaborn as snsabs\n",
    "df = pd.read_csv(\"/kaggle/input/ship-fuel-consumption-and-co2-emissions-analysis/ship_fuel_efficiency.csv\")\n",
    "df.head()"
   ]
  },
  {
   "cell_type": "code",
   "execution_count": 2,
   "id": "fb458c03",
   "metadata": {
    "execution": {
     "iopub.execute_input": "2024-12-31T14:20:21.681457Z",
     "iopub.status.busy": "2024-12-31T14:20:21.681139Z",
     "iopub.status.idle": "2024-12-31T14:20:21.686525Z",
     "shell.execute_reply": "2024-12-31T14:20:21.685501Z"
    },
    "papermill": {
     "duration": 0.010295,
     "end_time": "2024-12-31T14:20:21.688248",
     "exception": false,
     "start_time": "2024-12-31T14:20:21.677953",
     "status": "completed"
    },
    "tags": []
   },
   "outputs": [
    {
     "data": {
      "text/plain": [
       "(1440, 10)"
      ]
     },
     "execution_count": 2,
     "metadata": {},
     "output_type": "execute_result"
    }
   ],
   "source": [
    "df.shape"
   ]
  },
  {
   "cell_type": "code",
   "execution_count": 3,
   "id": "9cbaaa94",
   "metadata": {
    "execution": {
     "iopub.execute_input": "2024-12-31T14:20:21.694595Z",
     "iopub.status.busy": "2024-12-31T14:20:21.694268Z",
     "iopub.status.idle": "2024-12-31T14:20:21.723638Z",
     "shell.execute_reply": "2024-12-31T14:20:21.722389Z"
    },
    "papermill": {
     "duration": 0.034747,
     "end_time": "2024-12-31T14:20:21.725715",
     "exception": false,
     "start_time": "2024-12-31T14:20:21.690968",
     "status": "completed"
    },
    "tags": []
   },
   "outputs": [
    {
     "name": "stdout",
     "output_type": "stream",
     "text": [
      "<class 'pandas.core.frame.DataFrame'>\n",
      "RangeIndex: 1440 entries, 0 to 1439\n",
      "Data columns (total 10 columns):\n",
      " #   Column              Non-Null Count  Dtype  \n",
      "---  ------              --------------  -----  \n",
      " 0   ship_id             1440 non-null   object \n",
      " 1   ship_type           1440 non-null   object \n",
      " 2   route_id            1440 non-null   object \n",
      " 3   month               1440 non-null   object \n",
      " 4   distance            1440 non-null   float64\n",
      " 5   fuel_type           1440 non-null   object \n",
      " 6   fuel_consumption    1440 non-null   float64\n",
      " 7   CO2_emissions       1440 non-null   float64\n",
      " 8   weather_conditions  1440 non-null   object \n",
      " 9   engine_efficiency   1440 non-null   float64\n",
      "dtypes: float64(4), object(6)\n",
      "memory usage: 112.6+ KB\n"
     ]
    }
   ],
   "source": [
    "df.info()"
   ]
  },
  {
   "cell_type": "code",
   "execution_count": 4,
   "id": "70d049bf",
   "metadata": {
    "execution": {
     "iopub.execute_input": "2024-12-31T14:20:21.732532Z",
     "iopub.status.busy": "2024-12-31T14:20:21.732183Z",
     "iopub.status.idle": "2024-12-31T14:20:21.739748Z",
     "shell.execute_reply": "2024-12-31T14:20:21.738932Z"
    },
    "papermill": {
     "duration": 0.012445,
     "end_time": "2024-12-31T14:20:21.741220",
     "exception": false,
     "start_time": "2024-12-31T14:20:21.728775",
     "status": "completed"
    },
    "tags": []
   },
   "outputs": [
    {
     "data": {
      "text/plain": [
       "ship_id               0\n",
       "ship_type             0\n",
       "route_id              0\n",
       "month                 0\n",
       "distance              0\n",
       "fuel_type             0\n",
       "fuel_consumption      0\n",
       "CO2_emissions         0\n",
       "weather_conditions    0\n",
       "engine_efficiency     0\n",
       "dtype: int64"
      ]
     },
     "execution_count": 4,
     "metadata": {},
     "output_type": "execute_result"
    }
   ],
   "source": [
    "df.isnull().sum()"
   ]
  },
  {
   "cell_type": "code",
   "execution_count": 5,
   "id": "964ec28f",
   "metadata": {
    "execution": {
     "iopub.execute_input": "2024-12-31T14:20:21.747733Z",
     "iopub.status.busy": "2024-12-31T14:20:21.747406Z",
     "iopub.status.idle": "2024-12-31T14:20:21.756468Z",
     "shell.execute_reply": "2024-12-31T14:20:21.755510Z"
    },
    "papermill": {
     "duration": 0.014004,
     "end_time": "2024-12-31T14:20:21.758074",
     "exception": false,
     "start_time": "2024-12-31T14:20:21.744070",
     "status": "completed"
    },
    "tags": []
   },
   "outputs": [
    {
     "data": {
      "text/plain": [
       "0"
      ]
     },
     "execution_count": 5,
     "metadata": {},
     "output_type": "execute_result"
    }
   ],
   "source": [
    "df.duplicated().sum()"
   ]
  },
  {
   "cell_type": "code",
   "execution_count": null,
   "id": "fe17df87",
   "metadata": {
    "papermill": {
     "duration": 0.002464,
     "end_time": "2024-12-31T14:20:21.763549",
     "exception": false,
     "start_time": "2024-12-31T14:20:21.761085",
     "status": "completed"
    },
    "tags": []
   },
   "outputs": [],
   "source": []
  }
 ],
 "metadata": {
  "kaggle": {
   "accelerator": "none",
   "dataSources": [
    {
     "datasetId": 6308153,
     "sourceId": 10207243,
     "sourceType": "datasetVersion"
    }
   ],
   "dockerImageVersionId": 30822,
   "isGpuEnabled": false,
   "isInternetEnabled": true,
   "language": "python",
   "sourceType": "notebook"
  },
  "kernelspec": {
   "display_name": "Python 3",
   "language": "python",
   "name": "python3"
  },
  "language_info": {
   "codemirror_mode": {
    "name": "ipython",
    "version": 3
   },
   "file_extension": ".py",
   "mimetype": "text/x-python",
   "name": "python",
   "nbconvert_exporter": "python",
   "pygments_lexer": "ipython3",
   "version": "3.10.12"
  },
  "papermill": {
   "default_parameters": {},
   "duration": 5.458617,
   "end_time": "2024-12-31T14:20:22.386302",
   "environment_variables": {},
   "exception": null,
   "input_path": "__notebook__.ipynb",
   "output_path": "__notebook__.ipynb",
   "parameters": {},
   "start_time": "2024-12-31T14:20:16.927685",
   "version": "2.6.0"
  }
 },
 "nbformat": 4,
 "nbformat_minor": 5
}
