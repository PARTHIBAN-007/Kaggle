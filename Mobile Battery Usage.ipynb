{
 "cells": [
  {
   "cell_type": "code",
   "execution_count": 1,
   "id": "d0e01d9d",
   "metadata": {
    "execution": {
     "iopub.execute_input": "2024-12-11T14:49:57.626275Z",
     "iopub.status.busy": "2024-12-11T14:49:57.625854Z",
     "iopub.status.idle": "2024-12-11T14:50:00.571762Z",
     "shell.execute_reply": "2024-12-11T14:50:00.570478Z"
    },
    "papermill": {
     "duration": 2.953494,
     "end_time": "2024-12-11T14:50:00.573992",
     "exception": false,
     "start_time": "2024-12-11T14:49:57.620498",
     "status": "completed"
    },
    "tags": []
   },
   "outputs": [
    {
     "data": {
      "text/html": [
       "<div>\n",
       "<style scoped>\n",
       "    .dataframe tbody tr th:only-of-type {\n",
       "        vertical-align: middle;\n",
       "    }\n",
       "\n",
       "    .dataframe tbody tr th {\n",
       "        vertical-align: top;\n",
       "    }\n",
       "\n",
       "    .dataframe thead th {\n",
       "        text-align: right;\n",
       "    }\n",
       "</style>\n",
       "<table border=\"1\" class=\"dataframe\">\n",
       "  <thead>\n",
       "    <tr style=\"text-align: right;\">\n",
       "      <th></th>\n",
       "      <th>User ID</th>\n",
       "      <th>Device Model</th>\n",
       "      <th>Operating System</th>\n",
       "      <th>App Usage Time (min/day)</th>\n",
       "      <th>Screen On Time (hours/day)</th>\n",
       "      <th>Battery Drain (mAh/day)</th>\n",
       "      <th>Number of Apps Installed</th>\n",
       "      <th>Data Usage (MB/day)</th>\n",
       "      <th>Age</th>\n",
       "      <th>Gender</th>\n",
       "      <th>User Behavior Class</th>\n",
       "    </tr>\n",
       "  </thead>\n",
       "  <tbody>\n",
       "    <tr>\n",
       "      <th>0</th>\n",
       "      <td>1</td>\n",
       "      <td>Google Pixel 5</td>\n",
       "      <td>Android</td>\n",
       "      <td>393</td>\n",
       "      <td>6.4</td>\n",
       "      <td>1872</td>\n",
       "      <td>67</td>\n",
       "      <td>1122</td>\n",
       "      <td>40</td>\n",
       "      <td>Male</td>\n",
       "      <td>4</td>\n",
       "    </tr>\n",
       "    <tr>\n",
       "      <th>1</th>\n",
       "      <td>2</td>\n",
       "      <td>OnePlus 9</td>\n",
       "      <td>Android</td>\n",
       "      <td>268</td>\n",
       "      <td>4.7</td>\n",
       "      <td>1331</td>\n",
       "      <td>42</td>\n",
       "      <td>944</td>\n",
       "      <td>47</td>\n",
       "      <td>Female</td>\n",
       "      <td>3</td>\n",
       "    </tr>\n",
       "    <tr>\n",
       "      <th>2</th>\n",
       "      <td>3</td>\n",
       "      <td>Xiaomi Mi 11</td>\n",
       "      <td>Android</td>\n",
       "      <td>154</td>\n",
       "      <td>4.0</td>\n",
       "      <td>761</td>\n",
       "      <td>32</td>\n",
       "      <td>322</td>\n",
       "      <td>42</td>\n",
       "      <td>Male</td>\n",
       "      <td>2</td>\n",
       "    </tr>\n",
       "    <tr>\n",
       "      <th>3</th>\n",
       "      <td>4</td>\n",
       "      <td>Google Pixel 5</td>\n",
       "      <td>Android</td>\n",
       "      <td>239</td>\n",
       "      <td>4.8</td>\n",
       "      <td>1676</td>\n",
       "      <td>56</td>\n",
       "      <td>871</td>\n",
       "      <td>20</td>\n",
       "      <td>Male</td>\n",
       "      <td>3</td>\n",
       "    </tr>\n",
       "    <tr>\n",
       "      <th>4</th>\n",
       "      <td>5</td>\n",
       "      <td>iPhone 12</td>\n",
       "      <td>iOS</td>\n",
       "      <td>187</td>\n",
       "      <td>4.3</td>\n",
       "      <td>1367</td>\n",
       "      <td>58</td>\n",
       "      <td>988</td>\n",
       "      <td>31</td>\n",
       "      <td>Female</td>\n",
       "      <td>3</td>\n",
       "    </tr>\n",
       "  </tbody>\n",
       "</table>\n",
       "</div>"
      ],
      "text/plain": [
       "   User ID    Device Model Operating System  App Usage Time (min/day)  \\\n",
       "0        1  Google Pixel 5          Android                       393   \n",
       "1        2       OnePlus 9          Android                       268   \n",
       "2        3    Xiaomi Mi 11          Android                       154   \n",
       "3        4  Google Pixel 5          Android                       239   \n",
       "4        5       iPhone 12              iOS                       187   \n",
       "\n",
       "   Screen On Time (hours/day)  Battery Drain (mAh/day)  \\\n",
       "0                         6.4                     1872   \n",
       "1                         4.7                     1331   \n",
       "2                         4.0                      761   \n",
       "3                         4.8                     1676   \n",
       "4                         4.3                     1367   \n",
       "\n",
       "   Number of Apps Installed  Data Usage (MB/day)  Age  Gender  \\\n",
       "0                        67                 1122   40    Male   \n",
       "1                        42                  944   47  Female   \n",
       "2                        32                  322   42    Male   \n",
       "3                        56                  871   20    Male   \n",
       "4                        58                  988   31  Female   \n",
       "\n",
       "   User Behavior Class  \n",
       "0                    4  \n",
       "1                    3  \n",
       "2                    2  \n",
       "3                    3  \n",
       "4                    3  "
      ]
     },
     "execution_count": 1,
     "metadata": {},
     "output_type": "execute_result"
    }
   ],
   "source": [
    "import pandas as pd\n",
    "import numpy as np\n",
    "import matplotlib.pyplot as plt\n",
    "import seaborn as sns\n",
    "import warnings\n",
    "warnings.filterwarnings(\"ignore\")\n",
    "df = pd.read_csv(\"/kaggle/input/mobile-device-usage-and-user-behavior-dataset/user_behavior_dataset.csv\")\n",
    "df.head()"
   ]
  },
  {
   "cell_type": "markdown",
   "id": "d59b097d",
   "metadata": {
    "papermill": {
     "duration": 0.002228,
     "end_time": "2024-12-11T14:50:00.579319",
     "exception": false,
     "start_time": "2024-12-11T14:50:00.577091",
     "status": "completed"
    },
    "tags": []
   },
   "source": [
    "<div style=\"background-color:#F5F5DC; color:#FF7F50; font-size:25px; padding:25px; text-align:center; border-radius:15px;\">Mobile Device Usage & Battery Draining</div>"
   ]
  },
  {
   "cell_type": "code",
   "execution_count": 2,
   "id": "99042b46",
   "metadata": {
    "execution": {
     "iopub.execute_input": "2024-12-11T14:50:00.585852Z",
     "iopub.status.busy": "2024-12-11T14:50:00.585411Z",
     "iopub.status.idle": "2024-12-11T14:50:00.601168Z",
     "shell.execute_reply": "2024-12-11T14:50:00.599811Z"
    },
    "papermill": {
     "duration": 0.021994,
     "end_time": "2024-12-11T14:50:00.603693",
     "exception": false,
     "start_time": "2024-12-11T14:50:00.581699",
     "status": "completed"
    },
    "tags": []
   },
   "outputs": [
    {
     "data": {
      "text/plain": [
       "Operating System\n",
       "Android    554\n",
       "iOS        146\n",
       "Name: count, dtype: int64"
      ]
     },
     "execution_count": 2,
     "metadata": {},
     "output_type": "execute_result"
    }
   ],
   "source": [
    "df['Operating System'].value_counts()"
   ]
  },
  {
   "cell_type": "code",
   "execution_count": 3,
   "id": "d0dc34f4",
   "metadata": {
    "execution": {
     "iopub.execute_input": "2024-12-11T14:50:00.610792Z",
     "iopub.status.busy": "2024-12-11T14:50:00.610383Z",
     "iopub.status.idle": "2024-12-11T14:50:00.872444Z",
     "shell.execute_reply": "2024-12-11T14:50:00.871315Z"
    },
    "papermill": {
     "duration": 0.268353,
     "end_time": "2024-12-11T14:50:00.874783",
     "exception": false,
     "start_time": "2024-12-11T14:50:00.606430",
     "status": "completed"
    },
    "tags": []
   },
   "outputs": [
    {
     "data": {
      "image/png": "[encoded data removed]",
      "text/plain": [
       "<Figure size 640x480 with 1 Axes>"
      ]
     },
     "metadata": {},
     "output_type": "display_data"
    }
   ],
   "source": [
    "sns.countplot(x=df['Operating System'])\n",
    "plt.xlabel(\"Operating System\")\n",
    "plt.title(\"Usage of OS\")\n",
    "plt.show()"
   ]
  },
  {
   "cell_type": "code",
   "execution_count": 4,
   "id": "17997c77",
   "metadata": {
    "execution": {
     "iopub.execute_input": "2024-12-11T14:50:00.882275Z",
     "iopub.status.busy": "2024-12-11T14:50:00.881927Z",
     "iopub.status.idle": "2024-12-11T14:50:01.186149Z",
     "shell.execute_reply": "2024-12-11T14:50:01.184894Z"
    },
    "papermill": {
     "duration": 0.311314,
     "end_time": "2024-12-11T14:50:01.189109",
     "exception": false,
     "start_time": "2024-12-11T14:50:00.877795",
     "status": "completed"
    },
    "tags": []
   },
   "outputs": [
    {
     "data": {
      "text/plain": [
       "<Axes: xlabel='User Behavior Class', ylabel='count'>"
      ]
     },
     "execution_count": 4,
     "metadata": {},
     "output_type": "execute_result"
    },
    {
     "data": {
      "image/png": "[encoded data removed]",
      "text/plain": [
       "<Figure size 640x480 with 1 Axes>"
      ]
     },
     "metadata": {},
     "output_type": "display_data"
    }
   ],
   "source": [
    "sns.countplot(x=df['User Behavior Class'],hue=df['Operating System'])"
   ]
  },
  {
   "cell_type": "code",
   "execution_count": 5,
   "id": "84c2da0f",
   "metadata": {
    "execution": {
     "iopub.execute_input": "2024-12-11T14:50:01.198439Z",
     "iopub.status.busy": "2024-12-11T14:50:01.198050Z",
     "iopub.status.idle": "2024-12-11T14:50:01.516945Z",
     "shell.execute_reply": "2024-12-11T14:50:01.515577Z"
    },
    "papermill": {
     "duration": 0.326256,
     "end_time": "2024-12-11T14:50:01.519343",
     "exception": false,
     "start_time": "2024-12-11T14:50:01.193087",
     "status": "completed"
    },
    "tags": []
   },
   "outputs": [
    {
     "data": {
      "text/plain": [
       "<Axes: xlabel='User Behavior Class', ylabel='count'>"
      ]
     },
     "execution_count": 5,
     "metadata": {},
     "output_type": "execute_result"
    },
    {
     "data": {
      "image/png": "[encoded data removed]",
      "text/plain": [
       "<Figure size 640x480 with 1 Axes>"
      ]
     },
     "metadata": {},
     "output_type": "display_data"
    }
   ],
   "source": [
    "sns.countplot(x=df['User Behavior Class'],hue=df['Gender'])"
   ]
  }
 ],
 "metadata": {
  "kaggle": {
   "accelerator": "none",
   "dataSources": [
    {
     "datasetId": 5784553,
     "sourceId": 9504237,
     "sourceType": "datasetVersion"
    }
   ],
   "dockerImageVersionId": 30804,
   "isGpuEnabled": false,
   "isInternetEnabled": true,
   "language": "python",
   "sourceType": "notebook"
  },
  "kernelspec": {
   "display_name": "Python 3",
   "language": "python",
   "name": "python3"
  },
  "language_info": {
   "codemirror_mode": {
    "name": "ipython",
    "version": 3
   },
   "file_extension": ".py",
   "mimetype": "text/x-python",
   "name": "python",
   "nbconvert_exporter": "python",
   "pygments_lexer": "ipython3",
   "version": "3.10.14"
  },
  "papermill": {
   "default_parameters": {},
   "duration": 7.541894,
   "end_time": "2024-12-11T14:50:02.247591",
   "environment_variables": {},
   "exception": null,
   "input_path": "__notebook__.ipynb",
   "output_path": "__notebook__.ipynb",
   "parameters": {},
   "start_time": "2024-12-11T14:49:54.705697",
   "version": "2.6.0"
  }
 },
 "nbformat": 4,
 "nbformat_minor": 5
}
