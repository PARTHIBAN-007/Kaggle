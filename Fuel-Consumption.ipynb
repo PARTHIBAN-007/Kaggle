{
 "cells": [
  {
   "cell_type": "markdown",
   "id": "15948886",
   "metadata": {
    "papermill": {
     "duration": 0.005446,
     "end_time": "2025-01-03T15:14:38.298582",
     "exception": false,
     "start_time": "2025-01-03T15:14:38.293136",
     "status": "completed"
    },
    "tags": []
   },
   "source": [
    "<div style=\"background-color:#ffecd2; color:#0f0c29; text-align:center; padding:15px; font-size:15px; border-radius:25px;\">Fuel Consumption</div>"
   ]
  },
  {
   "cell_type": "code",
   "execution_count": 1,
   "id": "5ecaaa24",
   "metadata": {
    "execution": {
     "iopub.execute_input": "2025-01-03T15:14:38.309699Z",
     "iopub.status.busy": "2025-01-03T15:14:38.309323Z",
     "iopub.status.idle": "2025-01-03T15:14:40.452922Z",
     "shell.execute_reply": "2025-01-03T15:14:40.451755Z"
    },
    "papermill": {
     "duration": 2.151322,
     "end_time": "2025-01-03T15:14:40.454843",
     "exception": false,
     "start_time": "2025-01-03T15:14:38.303521",
     "status": "completed"
    },
    "tags": []
   },
   "outputs": [
    {
     "data": {
      "text/html": [
       "<div>\n",
       "<style scoped>\n",
       "    .dataframe tbody tr th:only-of-type {\n",
       "        vertical-align: middle;\n",
       "    }\n",
       "\n",
       "    .dataframe tbody tr th {\n",
       "        vertical-align: top;\n",
       "    }\n",
       "\n",
       "    .dataframe thead th {\n",
       "        text-align: right;\n",
       "    }\n",
       "</style>\n",
       "<table border=\"1\" class=\"dataframe\">\n",
       "  <thead>\n",
       "    <tr style=\"text-align: right;\">\n",
       "      <th></th>\n",
       "      <th>ship_id</th>\n",
       "      <th>ship_type</th>\n",
       "      <th>route_id</th>\n",
       "      <th>month</th>\n",
       "      <th>distance</th>\n",
       "      <th>fuel_type</th>\n",
       "      <th>fuel_consumption</th>\n",
       "      <th>CO2_emissions</th>\n",
       "      <th>weather_conditions</th>\n",
       "      <th>engine_efficiency</th>\n",
       "    </tr>\n",
       "  </thead>\n",
       "  <tbody>\n",
       "    <tr>\n",
       "      <th>0</th>\n",
       "      <td>NG001</td>\n",
       "      <td>Oil Service Boat</td>\n",
       "      <td>Warri-Bonny</td>\n",
       "      <td>January</td>\n",
       "      <td>132.26</td>\n",
       "      <td>HFO</td>\n",
       "      <td>3779.77</td>\n",
       "      <td>10625.76</td>\n",
       "      <td>Stormy</td>\n",
       "      <td>92.14</td>\n",
       "    </tr>\n",
       "    <tr>\n",
       "      <th>1</th>\n",
       "      <td>NG001</td>\n",
       "      <td>Oil Service Boat</td>\n",
       "      <td>Port Harcourt-Lagos</td>\n",
       "      <td>February</td>\n",
       "      <td>128.52</td>\n",
       "      <td>HFO</td>\n",
       "      <td>4461.44</td>\n",
       "      <td>12779.73</td>\n",
       "      <td>Moderate</td>\n",
       "      <td>92.98</td>\n",
       "    </tr>\n",
       "    <tr>\n",
       "      <th>2</th>\n",
       "      <td>NG001</td>\n",
       "      <td>Oil Service Boat</td>\n",
       "      <td>Port Harcourt-Lagos</td>\n",
       "      <td>March</td>\n",
       "      <td>67.30</td>\n",
       "      <td>HFO</td>\n",
       "      <td>1867.73</td>\n",
       "      <td>5353.01</td>\n",
       "      <td>Calm</td>\n",
       "      <td>87.61</td>\n",
       "    </tr>\n",
       "    <tr>\n",
       "      <th>3</th>\n",
       "      <td>NG001</td>\n",
       "      <td>Oil Service Boat</td>\n",
       "      <td>Port Harcourt-Lagos</td>\n",
       "      <td>April</td>\n",
       "      <td>71.68</td>\n",
       "      <td>Diesel</td>\n",
       "      <td>2393.51</td>\n",
       "      <td>6506.52</td>\n",
       "      <td>Stormy</td>\n",
       "      <td>87.42</td>\n",
       "    </tr>\n",
       "    <tr>\n",
       "      <th>4</th>\n",
       "      <td>NG001</td>\n",
       "      <td>Oil Service Boat</td>\n",
       "      <td>Lagos-Apapa</td>\n",
       "      <td>May</td>\n",
       "      <td>134.32</td>\n",
       "      <td>HFO</td>\n",
       "      <td>4267.19</td>\n",
       "      <td>11617.03</td>\n",
       "      <td>Calm</td>\n",
       "      <td>85.61</td>\n",
       "    </tr>\n",
       "  </tbody>\n",
       "</table>\n",
       "</div>"
      ],
      "text/plain": [
       "  ship_id         ship_type             route_id     month  distance  \\\n",
       "0   NG001  Oil Service Boat          Warri-Bonny   January    132.26   \n",
       "1   NG001  Oil Service Boat  Port Harcourt-Lagos  February    128.52   \n",
       "2   NG001  Oil Service Boat  Port Harcourt-Lagos     March     67.30   \n",
       "3   NG001  Oil Service Boat  Port Harcourt-Lagos     April     71.68   \n",
       "4   NG001  Oil Service Boat          Lagos-Apapa       May    134.32   \n",
       "\n",
       "  fuel_type  fuel_consumption  CO2_emissions weather_conditions  \\\n",
       "0       HFO           3779.77       10625.76             Stormy   \n",
       "1       HFO           4461.44       12779.73           Moderate   \n",
       "2       HFO           1867.73        5353.01               Calm   \n",
       "3    Diesel           2393.51        6506.52             Stormy   \n",
       "4       HFO           4267.19       11617.03               Calm   \n",
       "\n",
       "   engine_efficiency  \n",
       "0              92.14  \n",
       "1              92.98  \n",
       "2              87.61  \n",
       "3              87.42  \n",
       "4              85.61  "
      ]
     },
     "execution_count": 1,
     "metadata": {},
     "output_type": "execute_result"
    }
   ],
   "source": [
    "import numpy as np\n",
    "import pandas as pd\n",
    "import matplotlib.pyplot as plt\n",
    "import seaborn as sns\n",
    "import warnings\n",
    "warnings.filterwarnings(\"ignore\")\n",
    "df = pd.read_csv(\"/kaggle/input/ship-fuel-consumption-and-co2-emissions-analysis/ship_fuel_efficiency.csv\")\n",
    "df.head()"
   ]
  },
  {
   "cell_type": "code",
   "execution_count": 2,
   "id": "b61a9ea7",
   "metadata": {
    "execution": {
     "iopub.execute_input": "2025-01-03T15:14:40.466545Z",
     "iopub.status.busy": "2025-01-03T15:14:40.466151Z",
     "iopub.status.idle": "2025-01-03T15:14:40.471971Z",
     "shell.execute_reply": "2025-01-03T15:14:40.471026Z"
    },
    "papermill": {
     "duration": 0.013522,
     "end_time": "2025-01-03T15:14:40.473615",
     "exception": false,
     "start_time": "2025-01-03T15:14:40.460093",
     "status": "completed"
    },
    "tags": []
   },
   "outputs": [
    {
     "data": {
      "text/plain": [
       "(1440, 10)"
      ]
     },
     "execution_count": 2,
     "metadata": {},
     "output_type": "execute_result"
    }
   ],
   "source": [
    "df.shape"
   ]
  },
  {
   "cell_type": "code",
   "execution_count": 3,
   "id": "258b9d9b",
   "metadata": {
    "execution": {
     "iopub.execute_input": "2025-01-03T15:14:40.485226Z",
     "iopub.status.busy": "2025-01-03T15:14:40.484883Z",
     "iopub.status.idle": "2025-01-03T15:14:40.508920Z",
     "shell.execute_reply": "2025-01-03T15:14:40.507567Z"
    },
    "papermill": {
     "duration": 0.031699,
     "end_time": "2025-01-03T15:14:40.510591",
     "exception": false,
     "start_time": "2025-01-03T15:14:40.478892",
     "status": "completed"
    },
    "tags": []
   },
   "outputs": [
    {
     "name": "stdout",
     "output_type": "stream",
     "text": [
      "<class 'pandas.core.frame.DataFrame'>\n",
      "RangeIndex: 1440 entries, 0 to 1439\n",
      "Data columns (total 10 columns):\n",
      " #   Column              Non-Null Count  Dtype  \n",
      "---  ------              --------------  -----  \n",
      " 0   ship_id             1440 non-null   object \n",
      " 1   ship_type           1440 non-null   object \n",
      " 2   route_id            1440 non-null   object \n",
      " 3   month               1440 non-null   object \n",
      " 4   distance            1440 non-null   float64\n",
      " 5   fuel_type           1440 non-null   object \n",
      " 6   fuel_consumption    1440 non-null   float64\n",
      " 7   CO2_emissions       1440 non-null   float64\n",
      " 8   weather_conditions  1440 non-null   object \n",
      " 9   engine_efficiency   1440 non-null   float64\n",
      "dtypes: float64(4), object(6)\n",
      "memory usage: 112.6+ KB\n"
     ]
    }
   ],
   "source": [
    "df.info()"
   ]
  },
  {
   "cell_type": "code",
   "execution_count": 4,
   "id": "1213598e",
   "metadata": {
    "execution": {
     "iopub.execute_input": "2025-01-03T15:14:40.522296Z",
     "iopub.status.busy": "2025-01-03T15:14:40.521873Z",
     "iopub.status.idle": "2025-01-03T15:14:40.529508Z",
     "shell.execute_reply": "2025-01-03T15:14:40.528540Z"
    },
    "papermill": {
     "duration": 0.015029,
     "end_time": "2025-01-03T15:14:40.530979",
     "exception": false,
     "start_time": "2025-01-03T15:14:40.515950",
     "status": "completed"
    },
    "tags": []
   },
   "outputs": [
    {
     "data": {
      "text/plain": [
       "ship_id               0\n",
       "ship_type             0\n",
       "route_id              0\n",
       "month                 0\n",
       "distance              0\n",
       "fuel_type             0\n",
       "fuel_consumption      0\n",
       "CO2_emissions         0\n",
       "weather_conditions    0\n",
       "engine_efficiency     0\n",
       "dtype: int64"
      ]
     },
     "execution_count": 4,
     "metadata": {},
     "output_type": "execute_result"
    }
   ],
   "source": [
    "df.isnull().sum()"
   ]
  },
  {
   "cell_type": "code",
   "execution_count": 5,
   "id": "fafdd819",
   "metadata": {
    "execution": {
     "iopub.execute_input": "2025-01-03T15:14:40.542773Z",
     "iopub.status.busy": "2025-01-03T15:14:40.542426Z",
     "iopub.status.idle": "2025-01-03T15:14:40.551126Z",
     "shell.execute_reply": "2025-01-03T15:14:40.550309Z"
    },
    "papermill": {
     "duration": 0.016278,
     "end_time": "2025-01-03T15:14:40.552608",
     "exception": false,
     "start_time": "2025-01-03T15:14:40.536330",
     "status": "completed"
    },
    "tags": []
   },
   "outputs": [
    {
     "data": {
      "text/plain": [
       "0"
      ]
     },
     "execution_count": 5,
     "metadata": {},
     "output_type": "execute_result"
    }
   ],
   "source": [
    "df.duplicated().sum()"
   ]
  },
  {
   "cell_type": "code",
   "execution_count": 6,
   "id": "792fda7e",
   "metadata": {
    "execution": {
     "iopub.execute_input": "2025-01-03T15:14:40.564029Z",
     "iopub.status.busy": "2025-01-03T15:14:40.563719Z",
     "iopub.status.idle": "2025-01-03T15:14:40.569380Z",
     "shell.execute_reply": "2025-01-03T15:14:40.568411Z"
    },
    "papermill": {
     "duration": 0.012966,
     "end_time": "2025-01-03T15:14:40.570793",
     "exception": false,
     "start_time": "2025-01-03T15:14:40.557827",
     "status": "completed"
    },
    "tags": []
   },
   "outputs": [
    {
     "data": {
      "text/plain": [
       "(['distance', 'CO2_emissions', 'engine_efficiency'],\n",
       " ['ship_type', 'route_id', 'month', 'fuel_type', 'weather_conditions'])"
      ]
     },
     "execution_count": 6,
     "metadata": {},
     "output_type": "execute_result"
    }
   ],
   "source": [
    "numeric_columns = ['distance' ,'CO2_emissions', 'engine_efficiency']\n",
    "categoric_columns = ['ship_type', 'route_id', 'month', 'fuel_type',\n",
    "        'weather_conditions']\n",
    "numeric_columns ,categoric_columns"
   ]
  },
  {
   "cell_type": "markdown",
   "id": "fa07af86",
   "metadata": {
    "papermill": {
     "duration": 0.005129,
     "end_time": "2025-01-03T15:14:40.581497",
     "exception": false,
     "start_time": "2025-01-03T15:14:40.576368",
     "status": "completed"
    },
    "tags": []
   },
   "source": [
    "<div style=\"background-color:#ffecd2; color:#0f0c29; text-align:center; padding:15px; font-size:15px; border-radius:25px;\">Data Visualization</div>"
   ]
  },
  {
   "cell_type": "code",
   "execution_count": 7,
   "id": "7086b2b6",
   "metadata": {
    "execution": {
     "iopub.execute_input": "2025-01-03T15:14:40.593436Z",
     "iopub.status.busy": "2025-01-03T15:14:40.593054Z",
     "iopub.status.idle": "2025-01-03T15:14:41.358091Z",
     "shell.execute_reply": "2025-01-03T15:14:41.357100Z"
    },
    "papermill": {
     "duration": 0.772852,
     "end_time": "2025-01-03T15:14:41.359658",
     "exception": false,
     "start_time": "2025-01-03T15:14:40.586806",
     "status": "completed"
    },
    "tags": []
   },
   "outputs": [
    {
     "data": {
      "image/png": "[encoded data removed]",
      "text/plain": [
       "<Figure size 1600x1200 with 3 Axes>"
      ]
     },
     "metadata": {},
     "output_type": "display_data"
    },
    {
     "data": {
      "text/plain": [
       "<Figure size 640x480 with 0 Axes>"
      ]
     },
     "metadata": {},
     "output_type": "display_data"
    }
   ],
   "source": [
    "plt.figure(figsize=(16,12))\n",
    "for i,col in enumerate(numeric_columns):\n",
    "    i +=1\n",
    "    plt.subplot(2,2,i)\n",
    "    sns.histplot(x=df[col])\n",
    "    plt.title(f\"Distrubution of {col}\")\n",
    "    plt.xlabel(col)\n",
    "    plt.ylabel(f\"\")\n",
    "plt.show()\n",
    "plt.tight_layout()"
   ]
  },
  {
   "cell_type": "code",
   "execution_count": 8,
   "id": "f3b3fd82",
   "metadata": {
    "execution": {
     "iopub.execute_input": "2025-01-03T15:14:41.373961Z",
     "iopub.status.busy": "2025-01-03T15:14:41.373622Z",
     "iopub.status.idle": "2025-01-03T15:14:41.748217Z",
     "shell.execute_reply": "2025-01-03T15:14:41.747278Z"
    },
    "papermill": {
     "duration": 0.383668,
     "end_time": "2025-01-03T15:14:41.749963",
     "exception": false,
     "start_time": "2025-01-03T15:14:41.366295",
     "status": "completed"
    },
    "tags": []
   },
   "outputs": [
    {
     "data": {
      "image/png": "[encoded data removed]",
      "text/plain": [
       "<Figure size 1600x1200 with 3 Axes>"
      ]
     },
     "metadata": {},
     "output_type": "display_data"
    },
    {
     "data": {
      "text/plain": [
       "<Figure size 640x480 with 0 Axes>"
      ]
     },
     "metadata": {},
     "output_type": "display_data"
    }
   ],
   "source": [
    "plt.figure(figsize=(16,12))\n",
    "for i,col in enumerate(numeric_columns):\n",
    "    i +=1\n",
    "    plt.subplot(2,2,i)\n",
    "    sns.boxplot(x=df[col])\n",
    "    plt.title(f\"Distrubution of {col}\")\n",
    "    plt.xlabel(col)\n",
    "    plt.ylabel(f\"\")\n",
    "plt.show()\n",
    "plt.tight_layout()"
   ]
  },
  {
   "cell_type": "code",
   "execution_count": 9,
   "id": "a36ffa70",
   "metadata": {
    "execution": {
     "iopub.execute_input": "2025-01-03T15:14:41.766094Z",
     "iopub.status.busy": "2025-01-03T15:14:41.765712Z",
     "iopub.status.idle": "2025-01-03T15:14:42.624771Z",
     "shell.execute_reply": "2025-01-03T15:14:42.623760Z"
    },
    "papermill": {
     "duration": 0.869214,
     "end_time": "2025-01-03T15:14:42.626685",
     "exception": false,
     "start_time": "2025-01-03T15:14:41.757471",
     "status": "completed"
    },
    "tags": []
   },
   "outputs": [
    {
     "data": {
      "image/png": "[encoded data removed]",
      "text/plain": [
       "<Figure size 1600x2000 with 5 Axes>"
      ]
     },
     "metadata": {},
     "output_type": "display_data"
    }
   ],
   "source": [
    "plt.figure(figsize=(16,20))\n",
    "for i,col in enumerate(categoric_columns):\n",
    "    i +=1\n",
    "    plt.subplot(10,2,i)\n",
    "    sns.countplot(x=df[col],palette =\"Set3\")\n",
    "    plt.legend()\n",
    "    plt.title(f\"Count of {col}\")\n",
    "    plt.xlabel(col)\n",
    "    plt.ylabel(f\"\")\n",
    "plt.tight_layout()    \n",
    "plt.show()\n",
    "    "
   ]
  },
  {
   "cell_type": "code",
   "execution_count": 10,
   "id": "caaaeb1f",
   "metadata": {
    "execution": {
     "iopub.execute_input": "2025-01-03T15:14:42.645722Z",
     "iopub.status.busy": "2025-01-03T15:14:42.645387Z",
     "iopub.status.idle": "2025-01-03T15:14:42.652932Z",
     "shell.execute_reply": "2025-01-03T15:14:42.651906Z"
    },
    "papermill": {
     "duration": 0.018901,
     "end_time": "2025-01-03T15:14:42.654598",
     "exception": false,
     "start_time": "2025-01-03T15:14:42.635697",
     "status": "completed"
    },
    "tags": []
   },
   "outputs": [
    {
     "data": {
      "text/plain": [
       "ship_id               0\n",
       "ship_type             0\n",
       "route_id              0\n",
       "month                 0\n",
       "distance              0\n",
       "fuel_type             0\n",
       "fuel_consumption      0\n",
       "CO2_emissions         0\n",
       "weather_conditions    0\n",
       "engine_efficiency     0\n",
       "dtype: int64"
      ]
     },
     "execution_count": 10,
     "metadata": {},
     "output_type": "execute_result"
    }
   ],
   "source": [
    "df.isnull().sum()"
   ]
  },
  {
   "cell_type": "code",
   "execution_count": 11,
   "id": "e9d96cb2",
   "metadata": {
    "execution": {
     "iopub.execute_input": "2025-01-03T15:14:42.673432Z",
     "iopub.status.busy": "2025-01-03T15:14:42.673030Z",
     "iopub.status.idle": "2025-01-03T15:14:42.680427Z",
     "shell.execute_reply": "2025-01-03T15:14:42.679270Z"
    },
    "papermill": {
     "duration": 0.018617,
     "end_time": "2025-01-03T15:14:42.681941",
     "exception": false,
     "start_time": "2025-01-03T15:14:42.663324",
     "status": "completed"
    },
    "tags": []
   },
   "outputs": [
    {
     "name": "stdout",
     "output_type": "stream",
     "text": [
      "No of Unique Values in ship_type : 4\n",
      "No of Unique Values in route_id : 4\n",
      "No of Unique Values in month : 12\n",
      "No of Unique Values in fuel_type : 2\n",
      "No of Unique Values in weather_conditions : 3\n"
     ]
    }
   ],
   "source": [
    "for col in categoric_columns:\n",
    "    print(f\"No of Unique Values in {col} : {df[col].nunique()}\")"
   ]
  },
  {
   "cell_type": "markdown",
   "id": "27dc2841",
   "metadata": {
    "papermill": {
     "duration": 0.008582,
     "end_time": "2025-01-03T15:14:42.699346",
     "exception": false,
     "start_time": "2025-01-03T15:14:42.690764",
     "status": "completed"
    },
    "tags": []
   },
   "source": [
    "<div style=\"background-color:#ffecd2; color:#0f0c29; text-align:center; padding:15px; font-size:15px; border-radius:25px;\">Data Preprocessing</div>"
   ]
  },
  {
   "cell_type": "code",
   "execution_count": 12,
   "id": "2fcac424",
   "metadata": {
    "execution": {
     "iopub.execute_input": "2025-01-03T15:14:42.718350Z",
     "iopub.status.busy": "2025-01-03T15:14:42.717943Z",
     "iopub.status.idle": "2025-01-03T15:14:42.861710Z",
     "shell.execute_reply": "2025-01-03T15:14:42.860855Z"
    },
    "papermill": {
     "duration": 0.155497,
     "end_time": "2025-01-03T15:14:42.863639",
     "exception": false,
     "start_time": "2025-01-03T15:14:42.708142",
     "status": "completed"
    },
    "tags": []
   },
   "outputs": [],
   "source": [
    "from sklearn.preprocessing import LabelEncoder\n",
    "label = LabelEncoder()\n",
    "\n",
    "for col in categoric_columns:\n",
    "    df[col] = label.fit_transform(df[col])"
   ]
  },
  {
   "cell_type": "code",
   "execution_count": 13,
   "id": "7ceea3f6",
   "metadata": {
    "execution": {
     "iopub.execute_input": "2025-01-03T15:14:42.882421Z",
     "iopub.status.busy": "2025-01-03T15:14:42.882029Z",
     "iopub.status.idle": "2025-01-03T15:14:42.897255Z",
     "shell.execute_reply": "2025-01-03T15:14:42.896350Z"
    },
    "papermill": {
     "duration": 0.026288,
     "end_time": "2025-01-03T15:14:42.898807",
     "exception": false,
     "start_time": "2025-01-03T15:14:42.872519",
     "status": "completed"
    },
    "tags": []
   },
   "outputs": [
    {
     "data": {
      "text/html": [
       "<div>\n",
       "<style scoped>\n",
       "    .dataframe tbody tr th:only-of-type {\n",
       "        vertical-align: middle;\n",
       "    }\n",
       "\n",
       "    .dataframe tbody tr th {\n",
       "        vertical-align: top;\n",
       "    }\n",
       "\n",
       "    .dataframe thead th {\n",
       "        text-align: right;\n",
       "    }\n",
       "</style>\n",
       "<table border=\"1\" class=\"dataframe\">\n",
       "  <thead>\n",
       "    <tr style=\"text-align: right;\">\n",
       "      <th></th>\n",
       "      <th>ship_id</th>\n",
       "      <th>ship_type</th>\n",
       "      <th>route_id</th>\n",
       "      <th>month</th>\n",
       "      <th>distance</th>\n",
       "      <th>fuel_type</th>\n",
       "      <th>fuel_consumption</th>\n",
       "      <th>CO2_emissions</th>\n",
       "      <th>weather_conditions</th>\n",
       "      <th>engine_efficiency</th>\n",
       "    </tr>\n",
       "  </thead>\n",
       "  <tbody>\n",
       "    <tr>\n",
       "      <th>0</th>\n",
       "      <td>NG001</td>\n",
       "      <td>1</td>\n",
       "      <td>3</td>\n",
       "      <td>4</td>\n",
       "      <td>132.26</td>\n",
       "      <td>1</td>\n",
       "      <td>3779.77</td>\n",
       "      <td>10625.76</td>\n",
       "      <td>2</td>\n",
       "      <td>92.14</td>\n",
       "    </tr>\n",
       "    <tr>\n",
       "      <th>1</th>\n",
       "      <td>NG001</td>\n",
       "      <td>1</td>\n",
       "      <td>2</td>\n",
       "      <td>3</td>\n",
       "      <td>128.52</td>\n",
       "      <td>1</td>\n",
       "      <td>4461.44</td>\n",
       "      <td>12779.73</td>\n",
       "      <td>1</td>\n",
       "      <td>92.98</td>\n",
       "    </tr>\n",
       "    <tr>\n",
       "      <th>2</th>\n",
       "      <td>NG001</td>\n",
       "      <td>1</td>\n",
       "      <td>2</td>\n",
       "      <td>7</td>\n",
       "      <td>67.30</td>\n",
       "      <td>1</td>\n",
       "      <td>1867.73</td>\n",
       "      <td>5353.01</td>\n",
       "      <td>0</td>\n",
       "      <td>87.61</td>\n",
       "    </tr>\n",
       "    <tr>\n",
       "      <th>3</th>\n",
       "      <td>NG001</td>\n",
       "      <td>1</td>\n",
       "      <td>2</td>\n",
       "      <td>0</td>\n",
       "      <td>71.68</td>\n",
       "      <td>0</td>\n",
       "      <td>2393.51</td>\n",
       "      <td>6506.52</td>\n",
       "      <td>2</td>\n",
       "      <td>87.42</td>\n",
       "    </tr>\n",
       "    <tr>\n",
       "      <th>4</th>\n",
       "      <td>NG001</td>\n",
       "      <td>1</td>\n",
       "      <td>1</td>\n",
       "      <td>8</td>\n",
       "      <td>134.32</td>\n",
       "      <td>1</td>\n",
       "      <td>4267.19</td>\n",
       "      <td>11617.03</td>\n",
       "      <td>0</td>\n",
       "      <td>85.61</td>\n",
       "    </tr>\n",
       "  </tbody>\n",
       "</table>\n",
       "</div>"
      ],
      "text/plain": [
       "  ship_id  ship_type  route_id  month  distance  fuel_type  fuel_consumption  \\\n",
       "0   NG001          1         3      4    132.26          1           3779.77   \n",
       "1   NG001          1         2      3    128.52          1           4461.44   \n",
       "2   NG001          1         2      7     67.30          1           1867.73   \n",
       "3   NG001          1         2      0     71.68          0           2393.51   \n",
       "4   NG001          1         1      8    134.32          1           4267.19   \n",
       "\n",
       "   CO2_emissions  weather_conditions  engine_efficiency  \n",
       "0       10625.76                   2              92.14  \n",
       "1       12779.73                   1              92.98  \n",
       "2        5353.01                   0              87.61  \n",
       "3        6506.52                   2              87.42  \n",
       "4       11617.03                   0              85.61  "
      ]
     },
     "execution_count": 13,
     "metadata": {},
     "output_type": "execute_result"
    }
   ],
   "source": [
    "df.head()"
   ]
  },
  {
   "cell_type": "code",
   "execution_count": 14,
   "id": "a2eb0821",
   "metadata": {
    "execution": {
     "iopub.execute_input": "2025-01-03T15:14:42.918333Z",
     "iopub.status.busy": "2025-01-03T15:14:42.917938Z",
     "iopub.status.idle": "2025-01-03T15:14:42.923467Z",
     "shell.execute_reply": "2025-01-03T15:14:42.922446Z"
    },
    "papermill": {
     "duration": 0.017114,
     "end_time": "2025-01-03T15:14:42.924917",
     "exception": false,
     "start_time": "2025-01-03T15:14:42.907803",
     "status": "completed"
    },
    "tags": []
   },
   "outputs": [],
   "source": [
    "dff = df[['ship_type', 'route_id', 'month', 'distance', 'fuel_type',\n",
    "       'fuel_consumption', 'CO2_emissions', 'weather_conditions',\n",
    "       'engine_efficiency']]"
   ]
  },
  {
   "cell_type": "code",
   "execution_count": 15,
   "id": "e4e369b5",
   "metadata": {
    "execution": {
     "iopub.execute_input": "2025-01-03T15:14:42.944558Z",
     "iopub.status.busy": "2025-01-03T15:14:42.944158Z",
     "iopub.status.idle": "2025-01-03T15:14:43.047918Z",
     "shell.execute_reply": "2025-01-03T15:14:43.046821Z"
    },
    "papermill": {
     "duration": 0.11568,
     "end_time": "2025-01-03T15:14:43.049758",
     "exception": false,
     "start_time": "2025-01-03T15:14:42.934078",
     "status": "completed"
    },
    "tags": []
   },
   "outputs": [
    {
     "name": "stdout",
     "output_type": "stream",
     "text": [
      "(1152, 8) (1152,) (288, 8) (288,)\n"
     ]
    }
   ],
   "source": [
    "from sklearn.model_selection import train_test_split\n",
    "x = dff.drop(columns=['fuel_consumption'])\n",
    "y  = dff['fuel_consumption']\n",
    "x_train , x_test , y_train , y_test = train_test_split(x,y,test_size =0.2 ,random_state = 42)\n",
    "print(x_train.shape, y_train.shape , x_test.shape , y_test.shape)"
   ]
  },
  {
   "cell_type": "code",
   "execution_count": 16,
   "id": "ea732cde",
   "metadata": {
    "execution": {
     "iopub.execute_input": "2025-01-03T15:14:43.076312Z",
     "iopub.status.busy": "2025-01-03T15:14:43.075813Z",
     "iopub.status.idle": "2025-01-03T15:14:43.089623Z",
     "shell.execute_reply": "2025-01-03T15:14:43.088575Z"
    },
    "papermill": {
     "duration": 0.030316,
     "end_time": "2025-01-03T15:14:43.091330",
     "exception": false,
     "start_time": "2025-01-03T15:14:43.061014",
     "status": "completed"
    },
    "tags": []
   },
   "outputs": [],
   "source": [
    "from sklearn.preprocessing import MinMaxScaler\n",
    "scaler = MinMaxScaler()\n",
    "x_train[numeric_columns] = scaler.fit_transform(x_train[numeric_columns])\n",
    "x_test[numeric_columns] = scaler.transform(x_test[numeric_columns])\n"
   ]
  },
  {
   "cell_type": "markdown",
   "id": "6dab2957",
   "metadata": {
    "papermill": {
     "duration": 0.008975,
     "end_time": "2025-01-03T15:14:43.114783",
     "exception": false,
     "start_time": "2025-01-03T15:14:43.105808",
     "status": "completed"
    },
    "tags": []
   },
   "source": [
    "<div style=\"background-color:#ffecd2; color:#0f0c29; text-align:center; padding:15px; font-size:15px; border-radius:25px;\">Evaluation Metrics</div>"
   ]
  },
  {
   "cell_type": "code",
   "execution_count": 17,
   "id": "c68a6c73",
   "metadata": {
    "execution": {
     "iopub.execute_input": "2025-01-03T15:14:43.134288Z",
     "iopub.status.busy": "2025-01-03T15:14:43.133910Z",
     "iopub.status.idle": "2025-01-03T15:14:43.139006Z",
     "shell.execute_reply": "2025-01-03T15:14:43.138149Z"
    },
    "papermill": {
     "duration": 0.016617,
     "end_time": "2025-01-03T15:14:43.140470",
     "exception": false,
     "start_time": "2025-01-03T15:14:43.123853",
     "status": "completed"
    },
    "tags": []
   },
   "outputs": [],
   "source": [
    "from sklearn.metrics import mean_absolute_error , mean_squared_error\n",
    "\n",
    "def evaluation_metrics(model,y_true,y_pred):\n",
    "    mae = mean_absolute_error(y_true,y_pred)\n",
    "    mse = mean_squared_error(y_true,y_pred)\n",
    "    rmse = mse ** 0.5\n",
    "    print(f\"ML model : {model}\")\n",
    "    print(\"Mean Absolute Error : \", mae)\n",
    "    print(\"Mean Squared Error : \",mse)\n",
    "    print(\"Root Mean Squared Error : \",rmse)\n",
    "    print(\"*\"*300)"
   ]
  },
  {
   "cell_type": "markdown",
   "id": "c81244d1",
   "metadata": {
    "papermill": {
     "duration": 0.00862,
     "end_time": "2025-01-03T15:14:43.158131",
     "exception": false,
     "start_time": "2025-01-03T15:14:43.149511",
     "status": "completed"
    },
    "tags": []
   },
   "source": [
    "<div style=\"background-color:#ffecd2; color:#0f0c29; text-align:center; padding:15px; font-size:15px; border-radius:25px;\">Ml Model</div>"
   ]
  },
  {
   "cell_type": "code",
   "execution_count": 18,
   "id": "6c5e5e0b",
   "metadata": {
    "execution": {
     "iopub.execute_input": "2025-01-03T15:14:43.177148Z",
     "iopub.status.busy": "2025-01-03T15:14:43.176799Z",
     "iopub.status.idle": "2025-01-03T15:14:43.655230Z",
     "shell.execute_reply": "2025-01-03T15:14:43.654055Z"
    },
    "papermill": {
     "duration": 0.489989,
     "end_time": "2025-01-03T15:14:43.656942",
     "exception": false,
     "start_time": "2025-01-03T15:14:43.166953",
     "status": "completed"
    },
    "tags": []
   },
   "outputs": [
    {
     "name": "stdout",
     "output_type": "stream",
     "text": [
      "ML model : Linear Regression\n",
      "Mean Absolute Error :  219.07753855419577\n",
      "Mean Squared Error :  120056.92574263879\n",
      "Root Mean Squared Error :  346.49231700376674\n",
      "************************************************************************************************************************************************************************************************************************************************************************************************************\n"
     ]
    }
   ],
   "source": [
    "from sklearn.linear_model import LinearRegression\n",
    "from sklearn.ensemble import RandomForestRegressor\n",
    "lr = LinearRegression()\n",
    "lr.fit(x_train,y_train)\n",
    "lr_pred = lr.predict(x_test)\n",
    "evaluation_metrics(\"Linear Regression\",y_test,lr_pred)\n",
    "\n",
    "\n"
   ]
  },
  {
   "cell_type": "code",
   "execution_count": 19,
   "id": "001aa904",
   "metadata": {
    "execution": {
     "iopub.execute_input": "2025-01-03T15:14:43.676322Z",
     "iopub.status.busy": "2025-01-03T15:14:43.675959Z",
     "iopub.status.idle": "2025-01-03T15:14:46.158970Z",
     "shell.execute_reply": "2025-01-03T15:14:46.157854Z"
    },
    "papermill": {
     "duration": 2.494442,
     "end_time": "2025-01-03T15:14:46.160464",
     "exception": false,
     "start_time": "2025-01-03T15:14:43.666022",
     "status": "completed"
    },
    "tags": []
   },
   "outputs": [
    {
     "name": "stdout",
     "output_type": "stream",
     "text": [
      "ML model : Random Forest \n",
      "Mean Absolute Error :  224.3857311111108\n",
      "Mean Squared Error :  143349.82092902236\n",
      "Root Mean Squared Error :  378.6156638717188\n",
      "************************************************************************************************************************************************************************************************************************************************************************************************************\n"
     ]
    }
   ],
   "source": [
    "rf = RandomForestRegressor(n_estimators =500)\n",
    "rf.fit(x_train, y_train)\n",
    "rf_pred = rf.predict(x_test)\n",
    "evaluation_metrics(\"Random Forest \",y_test,rf_pred)"
   ]
  }
 ],
 "metadata": {
  "kaggle": {
   "accelerator": "none",
   "dataSources": [
    {
     "datasetId": 6308153,
     "sourceId": 10207243,
     "sourceType": "datasetVersion"
    }
   ],
   "dockerImageVersionId": 30822,
   "isGpuEnabled": false,
   "isInternetEnabled": true,
   "language": "python",
   "sourceType": "notebook"
  },
  "kernelspec": {
   "display_name": "Python 3",
   "language": "python",
   "name": "python3"
  },
  "language_info": {
   "codemirror_mode": {
    "name": "ipython",
    "version": 3
   },
   "file_extension": ".py",
   "mimetype": "text/x-python",
   "name": "python",
   "nbconvert_exporter": "python",
   "pygments_lexer": "ipython3",
   "version": "3.10.12"
  },
  "papermill": {
   "default_parameters": {},
   "duration": 11.14651,
   "end_time": "2025-01-03T15:14:46.888824",
   "environment_variables": {},
   "exception": null,
   "input_path": "__notebook__.ipynb",
   "output_path": "__notebook__.ipynb",
   "parameters": {},
   "start_time": "2025-01-03T15:14:35.742314",
   "version": "2.6.0"
  }
 },
 "nbformat": 4,
 "nbformat_minor": 5
}
